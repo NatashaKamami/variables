{
  "nbformat": 4,
  "nbformat_minor": 0,
  "metadata": {
    "colab": {
      "provenance": [],
      "authorship_tag": "ABX9TyN8XCyeYUbM0kjUmjUJ3j6q",
      "include_colab_link": true
    },
    "kernelspec": {
      "name": "python3",
      "display_name": "Python 3"
    },
    "language_info": {
      "name": "python"
    }
  },
  "cells": [
    {
      "cell_type": "markdown",
      "metadata": {
        "id": "view-in-github",
        "colab_type": "text"
      },
      "source": [
        "<a href=\"https://colab.research.google.com/github/NatashaKamami/variables/blob/main/app.ipynb\" target=\"_parent\"><img src=\"https://colab.research.google.com/assets/colab-badge.svg\" alt=\"Open In Colab\"/></a>"
      ]
    },
    {
      "cell_type": "code",
      "execution_count": 1,
      "metadata": {
        "colab": {
          "base_uri": "https://localhost:8080/"
        },
        "id": "JDqe7zA74hsg",
        "outputId": "0afb2d89-7c8f-41e8-e969-462ca620ad1f"
      },
      "outputs": [
        {
          "output_type": "stream",
          "name": "stdout",
          "text": [
            "Hello, Zindua\n"
          ]
        }
      ],
      "source": [
        "print(\"Hello, Zindua\")\n"
      ]
    },
    {
      "cell_type": "markdown",
      "source": [
        "variables"
      ],
      "metadata": {
        "id": "yxKt49CD48RA"
      }
    },
    {
      "cell_type": "code",
      "source": [
        "first_name = \"Jane\"\n",
        "last_name = \"Smith\"\n",
        "full_name = first_name + \" \" + last_name\n",
        "\n",
        "print(full_name)\n",
        "\n",
        "statement = f\"{first_name} and I were in the shop yesterday\"\n",
        "print(statement)"
      ],
      "metadata": {
        "colab": {
          "base_uri": "https://localhost:8080/"
        },
        "id": "cSCy3ZeM5CBQ",
        "outputId": "6e087fb8-c0a1-4119-a2c4-1a98fab88d06"
      },
      "execution_count": 3,
      "outputs": [
        {
          "output_type": "stream",
          "name": "stdout",
          "text": [
            "Jane Smith\n",
            "Jane and I were in the shop yesterday\n"
          ]
        }
      ]
    },
    {
      "cell_type": "markdown",
      "source": [
        "Strings\n"
      ],
      "metadata": {
        "id": "iDKIQGSJ8JyF"
      }
    },
    {
      "cell_type": "code",
      "source": [
        "#Concatenation\n",
        "full_name = \"John Doe\"\n",
        "age = \"30\"\n",
        "school = \"Zindua\"\n",
        "message = full_name + \" is \" + age + \" years old and he is studying at \" + school + \" school.\"\n",
        "message2 = f\"{full_name} is {age} years old and he is studying at {school} school.\"\n",
        "\n",
        "print(message)\n",
        "print(message2)\n",
        "\n"
      ],
      "metadata": {
        "colab": {
          "base_uri": "https://localhost:8080/"
        },
        "id": "ZQ0e9-9q8Ttq",
        "outputId": "ba48aaaf-af59-4983-9f1d-671fa7391081"
      },
      "execution_count": 13,
      "outputs": [
        {
          "output_type": "stream",
          "name": "stdout",
          "text": [
            "John Doe is 30 years old and he is studying at Zindua school.\n",
            "John Doe is 30 years old and he is studying at Zindua school.\n"
          ]
        }
      ]
    },
    {
      "cell_type": "markdown",
      "source": [
        "Integers and floating point numbers(floats)"
      ],
      "metadata": {
        "id": "rifATBzMGgh5"
      }
    },
    {
      "cell_type": "code",
      "source": [
        "import math\n",
        "#Integers\n",
        "a = 42\n",
        "b = -100\n",
        "c = 0\n",
        "d = 67589409272748\n",
        "\n",
        "#Floats\n",
        "x = 3.14\n",
        "y = -0.01\n",
        "z = 1.23e4 #(12300)\n",
        "\n",
        "print(abs(b)) #absolute value\n",
        "print(round(x, 1)) #rounding off to 1 dp\n",
        "print(math.ceil(x)) #ceiling- rounds off to the next greater number from the decimal\n",
        "print(math.floor(y)) #floor - rounds off to the next lower number by dropping the decimal\n",
        "print(pow(2, 3, 5)) #power i.e base, exponential, modulus\n",
        "print(pow(2, 3)) #power i.e base and  exponential\n",
        "print(math.pow(2, 3))\n",
        "print(math.sqrt(16)) #square root\n"
      ],
      "metadata": {
        "colab": {
          "base_uri": "https://localhost:8080/"
        },
        "id": "XGWtMj7HGoZ3",
        "outputId": "7f9b1a2b-def8-4cbc-911f-b9680068c758"
      },
      "execution_count": 28,
      "outputs": [
        {
          "output_type": "stream",
          "name": "stdout",
          "text": [
            "100\n",
            "3.1\n",
            "4\n",
            "-1\n",
            "3\n",
            "8\n",
            "8.0\n",
            "4.0\n"
          ]
        }
      ]
    },
    {
      "cell_type": "markdown",
      "source": [
        "Type conversion"
      ],
      "metadata": {
        "id": "YZmmpeLfMVrI"
      }
    },
    {
      "cell_type": "code",
      "source": [
        "\"\"\"num1 = 3\n",
        "num2 = float(num1) #converting into a float\n",
        "print(num1)\n",
        "print(num2)\n",
        "print(type(num1))\n",
        "print(type(num2)) \"\"\"\n",
        "\n",
        "num1 = '3'\n",
        "num2 = 2\n",
        "sum = int(num1) + num2\n",
        "print(sum)\n"
      ],
      "metadata": {
        "colab": {
          "base_uri": "https://localhost:8080/"
        },
        "id": "V2axbr2OMXxX",
        "outputId": "bb9b7360-9fad-4657-e630-578f6d4f4b18"
      },
      "execution_count": 35,
      "outputs": [
        {
          "output_type": "stream",
          "name": "stdout",
          "text": [
            "5\n"
          ]
        }
      ]
    },
    {
      "cell_type": "markdown",
      "source": [
        "Input"
      ],
      "metadata": {
        "id": "p48_DYc_N4wZ"
      }
    },
    {
      "cell_type": "code",
      "source": [
        "num1 = int(input(\"Ënter a number:\"))\n",
        "num2 = int(input(\"Enter another number:\"))\n",
        "sum = num1 + num2\n",
        "print(sum)\n"
      ],
      "metadata": {
        "colab": {
          "base_uri": "https://localhost:8080/"
        },
        "id": "uWLQok8RN6bP",
        "outputId": "323f2e18-ee96-4b37-ea7b-1c11671407bc"
      },
      "execution_count": 38,
      "outputs": [
        {
          "output_type": "stream",
          "name": "stdout",
          "text": [
            "Ënter a number:3\n",
            "Enter another number:5\n",
            "8\n"
          ]
        }
      ]
    },
    {
      "cell_type": "markdown",
      "source": [
        "Python operators\n",
        "Types: 1. Arithmetic operators\n",
        "       2. Assignment operators\n",
        "       3. Comparison operators\n",
        "       4. Logical operators\n",
        "       5. Bitwise operators\n",
        "       6. Special operators\n"
      ],
      "metadata": {
        "id": "jdXVXxosSdvM"
      }
    },
    {
      "cell_type": "code",
      "source": [
        "#Arithmetic operators\n",
        "add = 4 + 5\n",
        "sub = 6 - 2\n",
        "mult = 4 * 5\n",
        "div = 10 / 2\n",
        "rem = 10 % 3\n",
        "floor_div = 10 // 3\n",
        "power = 2 ** 3\n",
        "\n",
        "print(add)\n",
        "print(sub)\n",
        "print(mult)\n",
        "print(div)\n",
        "print(rem)\n",
        "print(floor_div)\n",
        "print(power)"
      ],
      "metadata": {
        "colab": {
          "base_uri": "https://localhost:8080/"
        },
        "id": "GLTeXKy8SgOR",
        "outputId": "c7d52f18-770d-48e4-9791-44c0d6c74460"
      },
      "execution_count": 43,
      "outputs": [
        {
          "output_type": "stream",
          "name": "stdout",
          "text": [
            "9\n",
            "4\n",
            "20\n",
            "5.0\n",
            "1\n",
            "3\n",
            "8\n"
          ]
        }
      ]
    },
    {
      "cell_type": "code",
      "source": [
        "#Assignment operators\n",
        "a = 5\n",
        "a += 1 #addition assignment- adds 1 to the initial assignment of a i.e an increament of 1 to a; a= a+1\n",
        "print(a)\n",
        "\n",
        "a -= 3 #subtraction assignment- decreament of 3 using the new a which is 6\n",
        "print(a)\n",
        "\n",
        "a *= 3 #multiplication assignment\n",
        "print(a)\n",
        "\n",
        "a /= 3 #division assignment\n",
        "print(a)\n",
        "\n",
        "a **= 2 #exponential assignment\n",
        "print(a)\n",
        "\n",
        "a %= 5 #remainder assignment\n",
        "print(a)"
      ],
      "metadata": {
        "colab": {
          "base_uri": "https://localhost:8080/"
        },
        "id": "exCBzy56VdTy",
        "outputId": "ed5d1fd1-3f14-4d8a-c4db-b39a67919ce1"
      },
      "execution_count": 50,
      "outputs": [
        {
          "output_type": "stream",
          "name": "stdout",
          "text": [
            "6\n",
            "3\n",
            "9\n",
            "3.0\n",
            "9.0\n",
            "4.0\n"
          ]
        }
      ]
    },
    {
      "cell_type": "code",
      "source": [
        "#Comparison operators\n",
        "a = 7\n",
        "b = 4\n",
        "\n",
        "print(a > b) #greater than\n",
        "print(a < b) #less than\n",
        "print(a == b) #equal to/same as\n",
        "print(a != b) #not equal to/same as\n",
        "print(a >= b) #greater than or equal to\n",
        "print(a <= b ) #less than or equal to\n"
      ],
      "metadata": {
        "colab": {
          "base_uri": "https://localhost:8080/"
        },
        "id": "OwR7N1WVYeHI",
        "outputId": "279f8d22-8e9a-4e81-9082-c42ba4264ecd"
      },
      "execution_count": 53,
      "outputs": [
        {
          "output_type": "stream",
          "name": "stdout",
          "text": [
            "True\n",
            "False\n",
            "False\n",
            "True\n",
            "True\n",
            "False\n"
          ]
        }
      ]
    },
    {
      "cell_type": "code",
      "source": [
        "#Logical operators\n",
        "a = 7\n",
        "b = 9\n",
        "\n",
        "print((a > 5) and (b > 9)) # and operator- for it to read true both statements must be true if one or both are false then it reads false\n",
        "print((a > 5) and (b >= 9))\n",
        "\n",
        "print((a > 5) or (b > 9)) #or operator- for it to read true either one or both statements must be true and for it to be false both statements have to be false\n",
        "print((a < 5) or (b < 9))"
      ],
      "metadata": {
        "colab": {
          "base_uri": "https://localhost:8080/"
        },
        "id": "2HS5AfIxaW2o",
        "outputId": "a9a3e687-6507-4d24-cd3b-5339a4475409"
      },
      "execution_count": 59,
      "outputs": [
        {
          "output_type": "stream",
          "name": "stdout",
          "text": [
            "False\n",
            "True\n",
            "True\n",
            "False\n"
          ]
        }
      ]
    }
  ]
}